{
 "cells": [
  {
   "cell_type": "markdown",
   "metadata": {},
   "source": [
    "#### Coursework for INM705 Deep Learning: Classification <br>\n",
    "\n",
    "\n",
    "# <b>Instance Segmentation for Car Damage Detection in P&C Industry </b><br>\n",
    "\n",
    "###  Team mc<sup>2</sup> : Minoh Kwon(PG), Christopher Michael Stokes(PG)<br>\n",
    "\n",
    "\n",
    "\n",
    "\n",
    "--------------------------------------------------------------------------------------------------------------------"
   ]
  },
  {
   "cell_type": "markdown",
   "metadata": {},
   "source": [
    "## <b>Environment</b> - Laptop\n",
    "(<b>Google Colab</b> also used for training)\n",
    "<ul>\n",
    "    <li><b>Operating System</b><br> \n",
    "        - Windows 10 Home 64bit</li><br>\n",
    "    <li><b>Hardware:</b><br> \n",
    "        - CPU Intel(R) Core(TM) i7-8550U<br>\n",
    "        - GPU GeForce GTX 105, Memory 4G\n",
    "        - RAM 8GB</li><br>\n",
    "    <li><b>Tools</b><br> \n",
    "        - anaconda3 2020.02<br> \n",
    "        - Python 3.7.6<br>\n",
    "        - Jupyter Lab 1.2.6<br>\n",
    "        - CUDA 10.2<br>\n",
    "        - Visual Studio 2019<br>\n",
    "        - PyTorch based Detectron2 framework(facebook AI research)\n",
    "           (git clone https://github.com/ivanpp/detectron2.git)<br>\n",
    "        - pycocotools (git clone https://github.com/cocodataset/cocoapi.git)<br>\n",
    "        - VGG Image Annotator (VIA) 2.0.9<br>\n",
    "        - LabelMe annotator (MIT)</li><br>\n",
    "    <li><b>Key Libraries</b><br>\n",
    "        - cython                    0.29.15<br>\n",
    "        - fvcore                    0.1.dev200410 <br>\n",
    "        - h5py                      2.10.0<br>\n",
    "        - imgaug                    0.4.0<br>\n",
    "        - opencv-python             4.2.0.34<br>\n",
    "        - pillow                    6.2.1<br>\n",
    "        - pycocotools               2.0<br>\n",
    "        - tensorboard               2.0.0<br>\n",
    "        - tensorboardX              2.0<br>\n",
    "        - <b>torch(pytorch)            1.3.1<br>\n",
    "        - torchvision               0.4.2</b><br> \n",
    "        - tqdm                      4.44.1</li><br>\n",
    "    <li><b>Folders</b><br> \n",
    "        - Image dataset: ./dataset/annotations, masks, train, test, val<br>\n",
    "        - Finalised models: \"./output\"<br>\n",
    "        - Custom functions: ./*.ipynb, *.py<br>\n",
    "        - Detectron2 folders: configs, detectron2, tools</li>\n",
    "</ul><br>"
   ]
  },
  {
   "cell_type": "markdown",
   "metadata": {},
   "source": [
    "## <b>Pre-trained weights</b>"
   ]
  },
  {
   "cell_type": "markdown",
   "metadata": {},
   "source": [
    "<ul><li>COCO Mask R-CNN ResNet-50 FPN 1x</li>\n",
    "    <li>COCO Mask R-CNN ResNet-50 FPN 3x</li>\n",
    "    <li>COCO Mask R-CNN ResNet-101 FPN 3x</li>\n",
    "    <li>LVIS Mask R-CNN ResNet-50 FPN 1x</li>\n",
    "    <li>LVIS Mask R-CNN ResNet-101 FPN 1x</li>\n",
    "</ul>"
   ]
  },
  {
   "cell_type": "markdown",
   "metadata": {},
   "source": [
    "## <b>Car Damage Dataset Source"
   ]
  },
  {
   "cell_type": "markdown",
   "metadata": {},
   "source": [
    "https://github.com/nicolasmetallo/car-damage-detector/tree/master/dataset"
   ]
  },
  {
   "cell_type": "markdown",
   "metadata": {},
   "source": [
    "Utilised a dataset from Nicolas Metallo's work, <br>and relabelled it with two classes - 'scratch', 'dent' - for the purpose of the coursework <br>"
   ]
  },
  {
   "cell_type": "markdown",
   "metadata": {},
   "source": [
    "--------------------------------------------------------------------------------------------------------------------\n",
    "## <b> Set-up Detectron2 on Google Colab"
   ]
  },
  {
   "cell_type": "markdown",
   "metadata": {},
   "source": [
    "#### Run the scripts below on Google Colab"
   ]
  },
  {
   "cell_type": "markdown",
   "metadata": {},
   "source": [
    "#### 1) Install Libraries"
   ]
  },
  {
   "cell_type": "code",
   "execution_count": null,
   "metadata": {},
   "outputs": [],
   "source": [
    "# Install dependencies: (use cu100 because colab is on CUDA 10.0)\n",
    "!pip install -U torch==1.4+cu100 torchvision==0.5+cu100 -f https://download.pytorch.org/whl/torch_stable.html \n",
    "!pip install cython pyyaml==5.1\n",
    "!pip install -U 'git+https://github.com/cocodataset/cocoapi.git#subdirectory=PythonAPI'\n",
    "import torch, torchvision\n",
    "torch.__version__\n",
    "!gcc --version"
   ]
  },
  {
   "cell_type": "markdown",
   "metadata": {},
   "source": [
    "#### 2) Install Detectron2"
   ]
  },
  {
   "cell_type": "code",
   "execution_count": null,
   "metadata": {},
   "outputs": [],
   "source": [
    "# Install detectron2:\n",
    "!pip install detectron2 -f https://dl.fbaipublicfiles.com/detectron2/wheels/cu100/index.html"
   ]
  },
  {
   "cell_type": "markdown",
   "metadata": {},
   "source": [
    "#### 3) Upload Dataset to Colab (.Zip format)"
   ]
  },
  {
   "cell_type": "code",
   "execution_count": null,
   "metadata": {},
   "outputs": [],
   "source": [
    "from google.colab import files\n",
    "upload = files.upload()"
   ]
  },
  {
   "cell_type": "code",
   "execution_count": null,
   "metadata": {},
   "outputs": [],
   "source": [
    "!ls"
   ]
  },
  {
   "cell_type": "markdown",
   "metadata": {},
   "source": [
    "#### 4) Unzip Dataset"
   ]
  },
  {
   "cell_type": "code",
   "execution_count": null,
   "metadata": {},
   "outputs": [],
   "source": [
    "!unzip dataset.zip"
   ]
  }
 ],
 "metadata": {
  "kernelspec": {
   "display_name": "Python 3",
   "language": "python",
   "name": "python3"
  },
  "language_info": {
   "codemirror_mode": {
    "name": "ipython",
    "version": 3
   },
   "file_extension": ".py",
   "mimetype": "text/x-python",
   "name": "python",
   "nbconvert_exporter": "python",
   "pygments_lexer": "ipython3",
   "version": "3.8.10"
  }
 },
 "nbformat": 4,
 "nbformat_minor": 4
}
